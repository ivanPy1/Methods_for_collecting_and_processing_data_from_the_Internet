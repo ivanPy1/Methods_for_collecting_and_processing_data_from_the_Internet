{
 "cells": [
  {
   "cell_type": "markdown",
   "metadata": {
    "id": "OQhA3D6UAjLu"
   },
   "source": [
    "# Практическое задание"
   ]
  },
  {
   "cell_type": "markdown",
   "metadata": {},
   "source": [
    "## Урок 5. Парсинг данных. Scrapy. Начало"
   ]
  },
  {
   "cell_type": "markdown",
   "metadata": {
    "id": "SB32_CthNR7-"
   },
   "source": [
    "#### загрузка проекта"
   ]
  },
  {
   "cell_type": "code",
   "execution_count": null,
   "metadata": {},
   "outputs": [],
   "source": [
    "cd perekrestok_parsing"
   ]
  },
  {
   "cell_type": "markdown",
   "metadata": {
    "id": "_93KvCZgN2IF"
   },
   "source": [
    "#### запуск паука"
   ]
  },
  {
   "cell_type": "code",
   "execution_count": null,
   "metadata": {},
   "outputs": [],
   "source": [
    "%cd perekrestok_discounts"
   ]
  },
  {
   "cell_type": "code",
   "execution_count": null,
   "metadata": {},
   "outputs": [],
   "source": [
    "!scrapy crawl perekrestok_ru"
   ]
  },
  {
   "cell_type": "markdown",
   "metadata": {
    "id": "fN92niqdN72_"
   },
   "source": [
    "#### проверим базу данных"
   ]
  },
  {
   "cell_type": "code",
   "execution_count": 5,
   "metadata": {
    "colab": {
     "background_save": true
    },
    "id": "i3YyN1pDEUAd"
   },
   "outputs": [],
   "source": [
    "# импортируем библиотеку для работы с базой данных и pprint\n",
    "\n",
    "from pymongo import MongoClient\n",
    "from pprint import pprint"
   ]
  },
  {
   "cell_type": "code",
   "execution_count": 6,
   "metadata": {
    "colab": {
     "background_save": true
    },
    "id": "h74rpYkmD6LH"
   },
   "outputs": [],
   "source": [
    "# название сессии\n",
    "\n",
    "client = MongoClient()"
   ]
  },
  {
   "cell_type": "code",
   "execution_count": 7,
   "metadata": {
    "colab": {
     "background_save": true
    },
    "id": "wTpUnYjCEbrn"
   },
   "outputs": [
    {
     "data": {
      "text/plain": [
       "['admin', 'config', 'local', 'product_db_perekrestok', 'vacancy_hh_ru_db']"
      ]
     },
     "execution_count": 7,
     "metadata": {},
     "output_type": "execute_result"
    }
   ],
   "source": [
    "# проверим какие базы данных имеются\n",
    "\n",
    "client.list_database_names()"
   ]
  },
  {
   "cell_type": "code",
   "execution_count": 8,
   "metadata": {
    "colab": {
     "background_save": true
    },
    "id": "YmkSfK3JEisO"
   },
   "outputs": [
    {
     "data": {
      "text/plain": [
       "['perekrestok_ru']"
      ]
     },
     "execution_count": 8,
     "metadata": {},
     "output_type": "execute_result"
    }
   ],
   "source": [
    "# проверим коллекции в базе даннных 'product_db_perekrestok'\n",
    "\n",
    "db = client.product_db_perekrestok\n",
    "db.list_collection_names()"
   ]
  },
  {
   "cell_type": "code",
   "execution_count": 9,
   "metadata": {
    "colab": {
     "background_save": true
    },
    "id": "85tkGgvvE3_W"
   },
   "outputs": [],
   "source": [
    "collection_product_db_perekrestok = db.perekrestok_ru"
   ]
  },
  {
   "cell_type": "code",
   "execution_count": 10,
   "metadata": {
    "colab": {
     "background_save": true
    },
    "id": "yGIfS6CYFYCd"
   },
   "outputs": [],
   "source": [
    "product_db_perekrestok_list = list(collection_product_db_perekrestok.find())"
   ]
  },
  {
   "cell_type": "code",
   "execution_count": 11,
   "metadata": {},
   "outputs": [
    {
     "name": "stdout",
     "output_type": "stream",
     "text": [
      "[{'_id': ObjectId('63f927caa980ae275f45d7d1'),\n",
      "  'link': ['/cat/370/p/moloko-selo-zelenoe-ultrapasterizovannoe-3-2-950ml-3328528',\n",
      "           '/cat/370/p/moloko-prostokvasino-otbornoe-pasterizovannoe-3-4-4-5-930ml-2085981',\n",
      "           '/cat/366/p/ogurcy-luks-450g-44569',\n",
      "           '/cat/370/p/smetana-prostokvasino-20-300g-4121609',\n",
      "           '/cat/370/p/moloko-pitevoe-pasterizovannoe-2-5-pet-zelenaa-linia-900ml-4137916',\n",
      "           '/cat/396/p/muka-makfa-vyssego-sorta-2kg-91304',\n",
      "           '/cat/367/p/abloki-sezonnye-47795',\n",
      "           '/cat/423/p/napitok-silnogazirovannyj-dobryj-cola-1-5l-4255938',\n",
      "           '/cat/372/p/jogurt-teos-greceskij-2-140g-3601417',\n",
      "           '/cat/367/p/abloki-golden-market-perekrestok-3366324',\n",
      "           '/cat/366/p/sampinony-market-fresh-400g-3210027',\n",
      "           '/cat/373/p/syrok-tvoroznyj-rostagroeksport-s-varenoj-sgusenkoj-glazirovannyj-15-45g-3666241',\n",
      "           '/cat/436/p/tvorog-agusa-4-5-s-6-mesacev-100g-20530',\n",
      "           '/cat/381/p/svinina-duhovaa-bez-kosti-perekrestok-46626',\n",
      "           '/cat/366/p/tomaty-medovye-cerri-krasnye-kruglye-200g-3676649',\n",
      "           '/cat/367/p/abloki-red-cif-market-perekrestok-79341',\n",
      "           '/cat/393/p/maslo-podsolnecnoe-sloboda-rafinirovannoe-dezodorirovannoe-vyssij-sort-1l-21676',\n",
      "           '/cat/372/p/tvorozok-cudo-visna-4-2-100g-3203086',\n",
      "           '/cat/374/p/ajca-vozanin-beloe-kurinye-pisevye-stolovye-otbornoj-kategorii-10st-4201192',\n",
      "           '/cat/424/p/voda-svatoj-istocnik-klucevaa-pitevaa-negazirovannaa-1-5l-1913',\n",
      "           '/cat/399/p/pecene-ubilejnoe-tradicionnoe-vitaminizirovannoe-112g-3471166',\n",
      "           '/cat/444/p/bumaga-tualetnaa-zewa-deluxe-8st-belaa-3-sloa-3301635',\n",
      "           '/cat/366/p/perec-krasnyj-sladkij-6177',\n",
      "           '/cat/372/p/tvorozok-cudo-grusa-persik-4-100g-3203100',\n",
      "           '/cat/370/p/moloko-prostokvasino-bezlaktoznoe-ultrapasterizovannoe-1-5-970ml-4045383',\n",
      "           '/cat/424/p/voda-svatoj-istocnik-prirodnaa-pitevaa-gazirovannaa-1-5l-20388',\n",
      "           '/cat/367/p/kivi-1532',\n",
      "           '/cat/446/p/korm-felix-appetitnye-kusocki-s-kuricej-v-zele-dla-vzroslyh-kosek-75g-4249850',\n",
      "           '/cat/370/p/smetana-prostokvasino-25-300g-4121607',\n",
      "           '/cat/367/p/grusi-konferens-6223',\n",
      "           '/cat/371/p/syr-arla-natura-slivocnyj-45-400g-34821',\n",
      "           '/cat/394/p/tomatnaa-pasta-market-perekrestok-70g-3504318',\n",
      "           '/cat/446/p/korm-felix-appetitnye-kusocki-krolik-v-zele-konservirovannyj-dla-vzroslyh-kosek-75g-4249856',\n",
      "           '/cat/424/p/voda-psyz-mineralnaa-pitevaa-lecebno-stolovaa-gazirovannaa-1l-3629622',\n",
      "           '/cat/367/p/abloki-grenni-smit-market-perekrestok-3366327',\n",
      "           '/cat/370/p/moloko-celnoe-otbornoe-detskoe-pasterizovannoe-3-4-4-sarafanovo-930ml-3613025',\n",
      "           '/cat/367/p/mandariny-marokko-3034500',\n",
      "           '/cat/373/p/tvorog-5-molocnyj-znak-180g-4216657',\n",
      "           '/cat/446/p/korm-felix-appetitnye-kusocki-govadina-v-zele-konservirovannyj-dla-vzroslyh-kosek-75g-4249855',\n",
      "           '/cat/371/p/syr-tvoroznyj-hochland-slivocnyj-60-220g-3467389',\n",
      "           '/cat/436/p/tvorog-fruktovyj-agusa-zasypajka-klubnika-banan-melissa-3-8-s-6-mesacev-100g-3495120',\n",
      "           '/cat/370/p/moloko-sgusennoe-rogacev-s-saharom-8-5-380g-3376242',\n",
      "           '/cat/367/p/limon-1536',\n",
      "           '/cat/446/p/korm-felix-dvojnaa-vkusnatina-losos-i-forel-v-zele-konservirovannyj-dla-vzroslyh-kosek-75g-4249876',\n",
      "           '/cat/393/p/maslo-podsolnecnoe-zolotaa-semecka-rafinirovannoe-1l-64128',\n",
      "           '/cat/373/p/syrok-tvoroznyj-rostagroeksport-s-aromatom-vanili-glazirovannyj-20-45g-3666242',\n",
      "           '/cat/424/p/voda-siskin-les-pitevaa-negazirovannaa-5l-43693',\n",
      "           '/cat/399/p/vafli-dr-gerard-master-piece-v-sokolade-28-5g-4090303'],\n",
      "  'name': ['Молоко Село Зелёное ультрапастеризованное 3.2%, 950мл',\n",
      "           'Молоко Простоквашино отборное пастеризованное 3.4-4.5%, 930мл',\n",
      "           'Огурцы Люкс, 450г',\n",
      "           'Сметана Простоквашино 20%, 300г',\n",
      "           'Молоко питьевое пастеризованное 2.5% ПЭТ Зелёная Линия, 900мл',\n",
      "           'Мука Makfa высшего сорта, 2кг',\n",
      "           'Яблоки сезонные',\n",
      "           'Напиток сильногазированный Добрый Cola, 1.5л',\n",
      "           'Йогурт Teos Греческий 2%, 140г',\n",
      "           'Яблоки Гольден Маркет Перекрёсток',\n",
      "           'Шампиньоны Маркет Fresh, 400г',\n",
      "           'Сырок творожный Ростагроэкспорт с варёной сгущёнкой глазированный '\n",
      "           '15%, 45г',\n",
      "           'Творог Агуша 4.5% с 6 месяцев, 100г',\n",
      "           'Свинина духовая без кости Перекрёсток',\n",
      "           'Томаты Медовые черри красные круглые, 200г',\n",
      "           'Яблоки Ред чиф Маркет Перекрёсток',\n",
      "           'Масло подсолнечное Слобода рафинированное дезодорированное высший '\n",
      "           'сорт, 1л',\n",
      "           'Творожок Чудо Вишня 4.2%, 100г',\n",
      "           'Яйца Вожанин Белое куриные пищевые столовые отборной категории, '\n",
      "           '10шт',\n",
      "           'Вода Святой источник ключевая питьевая негазированная, 1.5л',\n",
      "           'Печенье Юбилейное Традиционное витаминизированное, 112г',\n",
      "           'Бумага туалетная Zewa Deluxe 8шт белая 3 слоя',\n",
      "           'Перец красный сладкий',\n",
      "           'Творожок Чудо Груша-Персик 4%, 100г',\n",
      "           'Молоко Простоквашино безлактозное ультрапастеризованное 1.5%, '\n",
      "           '970мл',\n",
      "           'Вода Святой источник природная питьевая газированная, 1.5л',\n",
      "           'Киви',\n",
      "           'Корм Felix Аппетитные кусочки с курицей в желе для взрослых кошек, '\n",
      "           '75г',\n",
      "           'Сметана Простоквашино 25%, 300г',\n",
      "           'Груши Конференс',\n",
      "           'Сыр Arla Natura Сливочный 45%, 400г',\n",
      "           'Томатная паста Маркет Перекрёсток, 70г',\n",
      "           'Корм Felix Аппетитные кусочки кролик в желе консервированный для '\n",
      "           'взрослых кошек, 75г',\n",
      "           'Вода Псыж минеральная питьевая лечебно-столовая газированная, 1л',\n",
      "           'Яблоки Гренни смит Маркет Перекрёсток',\n",
      "           'Молоко цельное отборное детское пастеризованное 3.4-4% Сарафаново, '\n",
      "           '930мл',\n",
      "           'Мандарины Марокко',\n",
      "           'Творог 5% Молочный знак, 180г',\n",
      "           'Корм Felix Аппетитные кусочки говядина в желе консервированный для '\n",
      "           'взрослых кошек, 75г',\n",
      "           'Сыр творожный Hochland Сливочный 60%, 220г',\n",
      "           'Творог фруктовый Агуша Засыпайка Клубника-Банан-Мелисса 3.8% с 6 '\n",
      "           'месяцев, 100г',\n",
      "           'Молоко сгущённое Рогачевъ с сахаром 8.5%, 380г',\n",
      "           'Лимон',\n",
      "           'Корм Felix Двойная Вкуснятина лосось и форель в желе '\n",
      "           'консервированный для взрослых кошек, 75г',\n",
      "           'Масло подсолнечное Золотая Семечка рафинированное, 1л',\n",
      "           'Сырок творожный Ростагроэкспорт с ароматом ванили глазированный '\n",
      "           '20%, 45г',\n",
      "           'Вода Шишкин лес питьевая негазированная, 5л',\n",
      "           'Вафли Dr Gerard Master Piece в шоколаде, 28.5г'],\n",
      "  'new_price': ['69,99\\xa0₽',\n",
      "                '74,99\\xa0₽',\n",
      "                '179,99\\xa0₽',\n",
      "                '79,99\\xa0₽',\n",
      "                '56,99\\xa0₽',\n",
      "                '89,99\\xa0₽',\n",
      "                '74,99\\xa0₽',\n",
      "                '79,99\\xa0₽',\n",
      "                '39,99\\xa0₽',\n",
      "                '89,99\\xa0₽',\n",
      "                '99,99\\xa0₽',\n",
      "                '27,99\\xa0₽',\n",
      "                '29,99\\xa0₽',\n",
      "                '239,99\\xa0₽',\n",
      "                '189,99\\xa0₽',\n",
      "                '99,99\\xa0₽',\n",
      "                '109,99\\xa0₽',\n",
      "                '42,99\\xa0₽',\n",
      "                '84,99\\xa0₽',\n",
      "                '39,99\\xa0₽',\n",
      "                '29,99\\xa0₽',\n",
      "                '209,99\\xa0₽',\n",
      "                '259,99\\xa0₽',\n",
      "                '42,99\\xa0₽',\n",
      "                '99,99\\xa0₽',\n",
      "                '39,99\\xa0₽',\n",
      "                '99,99\\xa0₽',\n",
      "                '20,99\\xa0₽',\n",
      "                '94,99\\xa0₽',\n",
      "                '179,99\\xa0₽',\n",
      "                '289,99\\xa0₽',\n",
      "                '39,99\\xa0₽',\n",
      "                '20,99\\xa0₽',\n",
      "                '44,99\\xa0₽',\n",
      "                '99,99\\xa0₽',\n",
      "                '74,99\\xa0₽',\n",
      "                '159,99\\xa0₽',\n",
      "                '49,99\\xa0₽',\n",
      "                '20,99\\xa0₽',\n",
      "                '129,99\\xa0₽',\n",
      "                '29,99\\xa0₽',\n",
      "                '119,99\\xa0₽',\n",
      "                '99,99\\xa0₽',\n",
      "                '20,99\\xa0₽',\n",
      "                '109,99\\xa0₽',\n",
      "                '26,99\\xa0₽',\n",
      "                '89,99\\xa0₽',\n",
      "                '22,99\\xa0₽'],\n",
      "  'old_price': ['104,99\\xa0₽',\n",
      "                '97,99\\xa0₽',\n",
      "                '259,99\\xa0₽',\n",
      "                '104,99\\xa0₽',\n",
      "                '69,99\\xa0₽',\n",
      "                '119,99\\xa0₽',\n",
      "                '89,90\\xa0₽',\n",
      "                '105,00\\xa0₽',\n",
      "                '47,90\\xa0₽',\n",
      "                '119,90\\xa0₽',\n",
      "                '129,99\\xa0₽',\n",
      "                '37,99\\xa0₽',\n",
      "                '329,00\\xa0₽',\n",
      "                '219,99\\xa0₽',\n",
      "                '119,90\\xa0₽',\n",
      "                '129,99\\xa0₽',\n",
      "                '49,99\\xa0₽',\n",
      "                '104,99\\xa0₽',\n",
      "                '53,99\\xa0₽',\n",
      "                '37,99\\xa0₽',\n",
      "                '369,99\\xa0₽',\n",
      "                '299,99\\xa0₽',\n",
      "                '49,99\\xa0₽',\n",
      "                '129,99\\xa0₽',\n",
      "                '53,99\\xa0₽',\n",
      "                '149,90\\xa0₽',\n",
      "                '29,99\\xa0₽',\n",
      "                '119,99\\xa0₽',\n",
      "                '219,90\\xa0₽',\n",
      "                '449,99\\xa0₽',\n",
      "                '49,99\\xa0₽',\n",
      "                '29,99\\xa0₽',\n",
      "                '59,99\\xa0₽',\n",
      "                '119,90\\xa0₽',\n",
      "                '87,99\\xa0₽',\n",
      "                '189,90\\xa0₽',\n",
      "                '69,99\\xa0₽',\n",
      "                '29,99\\xa0₽',\n",
      "                '184,99\\xa0₽',\n",
      "                '39,99\\xa0₽',\n",
      "                '159,99\\xa0₽',\n",
      "                '119,90\\xa0₽',\n",
      "                '29,99\\xa0₽',\n",
      "                '134,99\\xa0₽',\n",
      "                '119,99\\xa0₽',\n",
      "                '29,99\\xa0₽'],\n",
      "  'rating': ['4.92',\n",
      "             '4.93',\n",
      "             '4.81',\n",
      "             '4.93',\n",
      "             '4.91',\n",
      "             '4.96',\n",
      "             '4.85',\n",
      "             '4.87',\n",
      "             '4.94',\n",
      "             '4.88',\n",
      "             '4.93',\n",
      "             '4.9',\n",
      "             '4.95',\n",
      "             '4.87',\n",
      "             '4.94',\n",
      "             '4.86',\n",
      "             '4.94',\n",
      "             '4.94',\n",
      "             '4.95',\n",
      "             '4.92',\n",
      "             '4.9',\n",
      "             '4.95',\n",
      "             '4.89',\n",
      "             '4.95',\n",
      "             '4.91',\n",
      "             '4.92',\n",
      "             '4.78',\n",
      "             '4.95',\n",
      "             '4.94',\n",
      "             '4.86',\n",
      "             '4.94',\n",
      "             '4.91',\n",
      "             '4.95',\n",
      "             '4.91',\n",
      "             '4.88',\n",
      "             '4.88',\n",
      "             '4.81',\n",
      "             '4.9',\n",
      "             '4.96',\n",
      "             '4.96',\n",
      "             '4.96',\n",
      "             '4.95',\n",
      "             '4.89',\n",
      "             '4.95',\n",
      "             '4.93',\n",
      "             '4.89',\n",
      "             '4.9',\n",
      "             '4.92']}]\n"
     ]
    }
   ],
   "source": [
    "pprint(product_db_perekrestok_list)"
   ]
  },
  {
   "cell_type": "code",
   "execution_count": null,
   "metadata": {},
   "outputs": [],
   "source": []
  }
 ],
 "metadata": {
  "colab": {
   "authorship_tag": "ABX9TyPg1l7H2zCtOJ6Ni8+9lfUD",
   "collapsed_sections": [
    "SB32_CthNR7-",
    "yixbIkF2Nchd",
    "aEr0RN1LNsBu",
    "_93KvCZgN2IF"
   ],
   "name": "",
   "version": ""
  },
  "kernelspec": {
   "display_name": "Python 3 (ipykernel)",
   "language": "python",
   "name": "python3"
  },
  "language_info": {
   "codemirror_mode": {
    "name": "ipython",
    "version": 3
   },
   "file_extension": ".py",
   "mimetype": "text/x-python",
   "name": "python",
   "nbconvert_exporter": "python",
   "pygments_lexer": "ipython3",
   "version": "3.9.12"
  }
 },
 "nbformat": 4,
 "nbformat_minor": 1
}
