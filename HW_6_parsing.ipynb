{
 "cells": [
  {
   "cell_type": "markdown",
   "metadata": {
    "id": "OQhA3D6UAjLu"
   },
   "source": [
    "# Практическое задание"
   ]
  },
  {
   "cell_type": "markdown",
   "metadata": {},
   "source": [
    "## Урок 6. Фреймворк Scrapy, pipelines, Splash"
   ]
  },
  {
   "cell_type": "markdown",
   "metadata": {
    "id": "SB32_CthNR7-"
   },
   "source": [
    "#### загрузка проекта"
   ]
  },
  {
   "cell_type": "code",
   "execution_count": null,
   "metadata": {},
   "outputs": [],
   "source": [
    "cd labirint_discounts"
   ]
  },
  {
   "cell_type": "markdown",
   "metadata": {
    "id": "_93KvCZgN2IF"
   },
   "source": [
    "#### запуск паука"
   ]
  },
  {
   "cell_type": "code",
   "execution_count": null,
   "metadata": {},
   "outputs": [],
   "source": [
    "%cd parser_books"
   ]
  },
  {
   "cell_type": "code",
   "execution_count": null,
   "metadata": {},
   "outputs": [],
   "source": [
    "!scrapy crawl labirint_ru"
   ]
  },
  {
   "cell_type": "markdown",
   "metadata": {
    "id": "fN92niqdN72_"
   },
   "source": [
    "#### проверим базу данных"
   ]
  },
  {
   "cell_type": "code",
   "execution_count": 4,
   "metadata": {
    "colab": {
     "background_save": true
    },
    "id": "i3YyN1pDEUAd"
   },
   "outputs": [],
   "source": [
    "# импортируем библиотеку для работы с базой данных и pprint\n",
    "\n",
    "from pymongo import MongoClient\n",
    "from pprint import pprint"
   ]
  },
  {
   "cell_type": "code",
   "execution_count": 5,
   "metadata": {
    "colab": {
     "background_save": true
    },
    "id": "h74rpYkmD6LH"
   },
   "outputs": [],
   "source": [
    "# название сессии\n",
    "\n",
    "client = MongoClient()"
   ]
  },
  {
   "cell_type": "code",
   "execution_count": 6,
   "metadata": {
    "colab": {
     "background_save": true
    },
    "id": "wTpUnYjCEbrn"
   },
   "outputs": [
    {
     "name": "stdout",
     "output_type": "stream",
     "text": [
      "['admin', 'books_db_labirint', 'config', 'local', 'product_db_perekrestok', 'vacancy_hh_ru_db']\n"
     ]
    }
   ],
   "source": [
    "# проверим какие базы данных имеются\n",
    "\n",
    "print(client.list_database_names())"
   ]
  },
  {
   "cell_type": "code",
   "execution_count": 7,
   "metadata": {
    "colab": {
     "background_save": true
    },
    "id": "YmkSfK3JEisO"
   },
   "outputs": [
    {
     "name": "stdout",
     "output_type": "stream",
     "text": [
      "['labirint_ru']\n"
     ]
    }
   ],
   "source": [
    "# проверим коллекции в базе даннных 'books_db_labirint'\n",
    "\n",
    "\n",
    "db = client.books_db_labirint\n",
    "print(db.list_collection_names())"
   ]
  },
  {
   "cell_type": "code",
   "execution_count": 8,
   "metadata": {
    "colab": {
     "background_save": true
    },
    "id": "85tkGgvvE3_W"
   },
   "outputs": [],
   "source": [
    "collection_books_db_labirint = db.labirint_ru"
   ]
  },
  {
   "cell_type": "code",
   "execution_count": 9,
   "metadata": {
    "colab": {
     "background_save": true
    },
    "id": "yGIfS6CYFYCd"
   },
   "outputs": [],
   "source": [
    "books_db_labirint_list = list(collection_books_db_labirint.find())"
   ]
  },
  {
   "cell_type": "code",
   "execution_count": 10,
   "metadata": {},
   "outputs": [
    {
     "name": "stdout",
     "output_type": "stream",
     "text": [
      "[{'_id': ObjectId('63f9f79e237359fe77eab3de'),\n",
      "  'authors': 'Бейтс Джереми',\n",
      "  'basic_price': '4032',\n",
      "  'books_title': 'Джереми Бейтс: Зловещие зоны земли. Комплект из 3-х книг',\n",
      "  'discount_price': '2419',\n",
      "  'link_book': 'https://www.labirint.ru/books/931179/',\n",
      "  'rating': '10.00'},\n",
      " {'_id': ObjectId('63f9f79e237359fe77eab3e0'),\n",
      "  'authors': 'Селезнева Кира',\n",
      "  'basic_price': '560',\n",
      "  'books_title': 'Кира Селезнева: Корни, стволы, ветви, листва. Всю жизнь. '\n",
      "                 'Загадка',\n",
      "  'discount_price': '336',\n",
      "  'link_book': 'https://www.labirint.ru/books/920511/',\n",
      "  'rating': '10.00'},\n",
      " {'_id': ObjectId('63f9f79e237359fe77eab3e2'),\n",
      "  'authors': 'Линде Юлия Владимировна',\n",
      "  'basic_price': '2880',\n",
      "  'books_title': 'Юлия Линде: Улица Ручей. Том 2. Отступление',\n",
      "  'discount_price': '1728',\n",
      "  'link_book': 'https://www.labirint.ru/books/819014/',\n",
      "  'rating': '9.94'},\n",
      " {'_id': ObjectId('63f9f79e237359fe77eab3e4'),\n",
      "  'authors': 'Кузнецова Юлия Никитична',\n",
      "  'basic_price': '736',\n",
      "  'books_title': 'Юлия Кузнецова: Где папа?',\n",
      "  'discount_price': '442',\n",
      "  'link_book': 'https://www.labirint.ru/books/901459/',\n",
      "  'rating': '8.81'},\n",
      " {'_id': ObjectId('63f9f79f237359fe77eab3e6'),\n",
      "  'authors': 'Асланова Юлия Дмитриевна',\n",
      "  'basic_price': '1072',\n",
      "  'books_title': 'Юлия Асланова: Внеклассная жукология',\n",
      "  'discount_price': '643',\n",
      "  'link_book': 'https://www.labirint.ru/books/901186/',\n",
      "  'rating': '9.78'},\n",
      " {'_id': ObjectId('63f9f79f237359fe77eab3e8'),\n",
      "  'authors': 'Хмелевская Иоанна',\n",
      "  'basic_price': '800',\n",
      "  'books_title': 'Иоанна Хмелевская: Киллер в сиреневой юбке',\n",
      "  'discount_price': '520',\n",
      "  'link_book': 'https://www.labirint.ru/books/896604/',\n",
      "  'rating': '7.67'},\n",
      " {'_id': ObjectId('63f9f79f237359fe77eab3ea'),\n",
      "  'authors': 'Хёйзинга Йохан',\n",
      "  'basic_price': '1680',\n",
      "  'books_title': 'Йохан Хейзинга: Культура Нидерландов в XVII веке',\n",
      "  'discount_price': '840',\n",
      "  'link_book': 'https://www.labirint.ru/books/895985/',\n",
      "  'rating': '9.38'},\n",
      " {'_id': ObjectId('63f9f79f237359fe77eab3ec'),\n",
      "  'authors': 'Монтгомери Люси Мод',\n",
      "  'basic_price': '1488',\n",
      "  'books_title': 'Люси Монтгомери: Аня с острова Принца Эдуарда',\n",
      "  'discount_price': '893',\n",
      "  'link_book': 'https://www.labirint.ru/books/903763/',\n",
      "  'rating': '9.94'},\n",
      " {'_id': ObjectId('63f9f79f237359fe77eab3ee'),\n",
      "  'authors': 'Гаспаров Михаил Леонович',\n",
      "  'basic_price': '1440',\n",
      "  'books_title': 'Михаил Гаспаров: Капитолийская волчица. Рим до цезарей',\n",
      "  'discount_price': '720',\n",
      "  'link_book': 'https://www.labirint.ru/books/895986/',\n",
      "  'rating': '8.90'},\n",
      " {'_id': ObjectId('63f9f79f237359fe77eab3f0'),\n",
      "  'authors': 'Ли Лита Витальевна',\n",
      "  'basic_price': '800',\n",
      "  'books_title': 'Лита Ли: Мам, расскажи сказку!',\n",
      "  'discount_price': '480',\n",
      "  'link_book': 'https://www.labirint.ru/books/901258/',\n",
      "  'rating': '9.71'},\n",
      " {'_id': ObjectId('63f9f79f237359fe77eab3f2'),\n",
      "  'authors': 'Шамина Екатерина',\n",
      "  'basic_price': '848',\n",
      "  'books_title': 'Екатерина Шамина: Букварь осознанности. 1 класс',\n",
      "  'discount_price': '594',\n",
      "  'link_book': 'https://www.labirint.ru/books/901756/',\n",
      "  'rating': '10.00'},\n",
      " {'_id': ObjectId('63f9f7a0237359fe77eab3f4'),\n",
      "  'authors': 'Бордон Екатерина',\n",
      "  'basic_price': '320',\n",
      "  'books_title': 'Бордон, Лукьянова, Сиротин: За синей дверью',\n",
      "  'discount_price': '160',\n",
      "  'link_book': 'https://www.labirint.ru/books/883732/',\n",
      "  'rating': '10.00'},\n",
      " {'_id': ObjectId('63f9f7a0237359fe77eab3f6'),\n",
      "  'authors': 'Хмелевская Иоанна',\n",
      "  'basic_price': '928',\n",
      "  'books_title': 'Иоанна Хмелевская: Роковые марки',\n",
      "  'discount_price': '557',\n",
      "  'link_book': 'https://www.labirint.ru/books/896603/',\n",
      "  'rating': '10.00'},\n",
      " {'_id': ObjectId('63f9f7a0237359fe77eab3f8'),\n",
      "  'authors': 'Дойл Артур Конан',\n",
      "  'basic_price': '4848',\n",
      "  'books_title': 'Артур Дойл: Записки о Шерлоке Холмсе',\n",
      "  'discount_price': '3151',\n",
      "  'link_book': 'https://www.labirint.ru/books/869738/',\n",
      "  'rating': '9.32'},\n",
      " {'_id': ObjectId('63f9f7a0237359fe77eab3fa'),\n",
      "  'authors': 'Скрипник Ева',\n",
      "  'basic_price': '2672',\n",
      "  'books_title': 'Скрипник, Сафонова: Тело, в котором ты живешь. Комплект из '\n",
      "                 '2-х книг',\n",
      "  'discount_price': '1870',\n",
      "  'link_book': 'https://www.labirint.ru/books/931177/',\n",
      "  'rating': '0.00'},\n",
      " {'_id': ObjectId('63f9f7a0237359fe77eab3fc'),\n",
      "  'authors': 'Середа Елена Викторовна',\n",
      "  'basic_price': '2544',\n",
      "  'books_title': 'Середа, Кочетков: Легендарные. Комплект из 2-х книг',\n",
      "  'discount_price': '1526',\n",
      "  'link_book': 'https://www.labirint.ru/books/931176/',\n",
      "  'rating': '0.00'},\n",
      " {'_id': ObjectId('63f9f7a0237359fe77eab3fe'),\n",
      "  'authors': 'Гу Бёнмо',\n",
      "  'basic_price': '3728',\n",
      "  'books_title': 'Гу, Бейтс, Голи: Мужские остросюжетные триллеры. Комплект из '\n",
      "                 '3-х книг',\n",
      "  'discount_price': '2237',\n",
      "  'link_book': 'https://www.labirint.ru/books/931178/',\n",
      "  'rating': '0.00'},\n",
      " {'_id': ObjectId('63f9f7a0237359fe77eab400'),\n",
      "  'authors': 'Гроуз Майкл',\n",
      "  'basic_price': '2464',\n",
      "  'books_title': 'Гроуз, Ричардсон: Тревожные дети и родители. Комплект из 2-х '\n",
      "                 'книг',\n",
      "  'discount_price': '1725',\n",
      "  'link_book': 'https://www.labirint.ru/books/931173/',\n",
      "  'rating': '0.00'},\n",
      " {'_id': ObjectId('63f9f7a1237359fe77eab402'),\n",
      "  'authors': 'Виллемайер Кристен',\n",
      "  'basic_price': '4080',\n",
      "  'books_title': 'Виллемайер, Дау, Анкенстайн: Мозг - твое супероружие. '\n",
      "                 'Комплект из 3-х книг',\n",
      "  'discount_price': '2856',\n",
      "  'link_book': 'https://www.labirint.ru/books/931172/',\n",
      "  'rating': '0.00'},\n",
      " {'_id': ObjectId('63f9f7a1237359fe77eab404'),\n",
      "  'authors': 'Третьякова Мария Игоревна',\n",
      "  'basic_price': '1872',\n",
      "  'books_title': 'Мария Третьякова: Сказка-квест. Комплект из 3-х книг',\n",
      "  'discount_price': '1217',\n",
      "  'link_book': 'https://www.labirint.ru/books/931175/',\n",
      "  'rating': '0.00'},\n",
      " {'_id': ObjectId('63f9f7a1237359fe77eab406'),\n",
      "  'authors': 'Крийен Жюдит',\n",
      "  'basic_price': '3072',\n",
      "  'books_title': 'Крийен, Вандайк: Минимализм и zero waste. Комплект из 3-х '\n",
      "                 'книг',\n",
      "  'discount_price': '2150',\n",
      "  'link_book': 'https://www.labirint.ru/books/931171/',\n",
      "  'rating': '0.00'},\n",
      " {'_id': ObjectId('63f9f7a1237359fe77eab408'),\n",
      "  'authors': 'Логинов Михаил Валентинович',\n",
      "  'basic_price': '2160',\n",
      "  'books_title': 'Михаил Логинов: Почти детективная история. Комплект из 2-х '\n",
      "                 'книг',\n",
      "  'discount_price': '1404',\n",
      "  'link_book': 'https://www.labirint.ru/books/931174/',\n",
      "  'rating': '0.00'},\n",
      " {'_id': ObjectId('63f9f7a1237359fe77eab40a'),\n",
      "  'authors': 'Бройнинг Лоретта Грациано',\n",
      "  'basic_price': '1744',\n",
      "  'books_title': 'Лоретта Бройнинг: Бройнинг. Перепрограммируй мозг. Комплект '\n",
      "                 'из 2-х книг',\n",
      "  'discount_price': '1046',\n",
      "  'link_book': 'https://www.labirint.ru/books/931170/',\n",
      "  'rating': '0.00'},\n",
      " {'_id': ObjectId('63f9f7a1237359fe77eab40c'),\n",
      "  'authors': 'Якоб Гитта',\n",
      "  'basic_price': '3456',\n",
      "  'books_title': 'Якоб, Нубер, Видмер: Правила жизни. Комплект из 3-х книг',\n",
      "  'discount_price': '2246',\n",
      "  'link_book': 'https://www.labirint.ru/books/931168/',\n",
      "  'rating': '0.00'},\n",
      " {'_id': ObjectId('63f9f7a1237359fe77eab40e'),\n",
      "  'authors': 'Астафьефф Катя',\n",
      "  'basic_price': '1792',\n",
      "  'books_title': 'Катя Астафьефф: Удивительные растения. Комплект из 2-х книг',\n",
      "  'discount_price': '1165',\n",
      "  'link_book': 'https://www.labirint.ru/books/931169/',\n",
      "  'rating': '0.00'},\n",
      " {'_id': ObjectId('63f9f7a1237359fe77eab410'),\n",
      "  'authors': 'Матэ Габор',\n",
      "  'basic_price': '4272',\n",
      "  'books_title': 'Габор Матэ: Габор Матэ. Коллекция. Комплект из 3-х книг',\n",
      "  'discount_price': '2563',\n",
      "  'link_book': 'https://www.labirint.ru/books/931167/',\n",
      "  'rating': '0.00'},\n",
      " {'_id': ObjectId('63f9f7a1237359fe77eab412'),\n",
      "  'authors': 'Апдайк Джон',\n",
      "  'basic_price': '3344',\n",
      "  'books_title': 'Джон Апдайк: Романы о Кролике. Начало. Комплект из 3-х книг',\n",
      "  'discount_price': '2174',\n",
      "  'link_book': 'https://www.labirint.ru/books/931217/',\n",
      "  'rating': '10.00'},\n",
      " {'_id': ObjectId('63f9f7a2237359fe77eab414'),\n",
      "  'authors': 'Тан Эми',\n",
      "  'basic_price': '3776',\n",
      "  'books_title': 'Тан, Юн: Китай. Женский взгляд. Комплект из 2-х книг',\n",
      "  'discount_price': '2643',\n",
      "  'link_book': 'https://www.labirint.ru/books/931216/',\n",
      "  'rating': '10.00'},\n",
      " {'_id': ObjectId('63f9f7a2237359fe77eab416'),\n",
      "  'authors': 'Костелоу Дайни',\n",
      "  'basic_price': '3664',\n",
      "  'books_title': 'Дайни Костелоу: История и женские судьбы. Комплект из 3-х '\n",
      "                 'книг',\n",
      "  'discount_price': '2565',\n",
      "  'link_book': 'https://www.labirint.ru/books/931215/',\n",
      "  'rating': '10.00'},\n",
      " {'_id': ObjectId('63f9f7a2237359fe77eab418'),\n",
      "  'authors': 'Крапивин Владислав Петрович',\n",
      "  'basic_price': '3040',\n",
      "  'books_title': 'Владислав Крапивин: Крапивин. Острова и капитаны. Комплект '\n",
      "                 'из 3-х книг',\n",
      "  'discount_price': '1976',\n",
      "  'link_book': 'https://www.labirint.ru/books/931214/',\n",
      "  'rating': '10.00'},\n",
      " {'_id': ObjectId('63f9f7a2237359fe77eab41a'),\n",
      "  'authors': 'Верн Жюль',\n",
      "  'basic_price': '3344',\n",
      "  'books_title': 'Жюль Верн: Необыкновенные путешествия Верна. Комплект из 3-х '\n",
      "                 'книг',\n",
      "  'discount_price': '2341',\n",
      "  'link_book': 'https://www.labirint.ru/books/931213/',\n",
      "  'rating': '10.00'},\n",
      " {'_id': ObjectId('63f9f7a2237359fe77eab41c'),\n",
      "  'authors': None,\n",
      "  'basic_price': '3728',\n",
      "  'books_title': 'Мужские триллеры. Комплект из 3-х книг',\n",
      "  'discount_price': '2423',\n",
      "  'link_book': 'https://www.labirint.ru/books/931212/',\n",
      "  'rating': '0.00'},\n",
      " {'_id': ObjectId('63f9f7a2237359fe77eab41e'),\n",
      "  'authors': 'Монтгомери Люси Мод',\n",
      "  'basic_price': '5232',\n",
      "  'books_title': 'Люси Монтгомери: Аня с фермы Зеленые Крыши. Комплект из 3-х '\n",
      "                 'книг',\n",
      "  'discount_price': '3139',\n",
      "  'link_book': 'https://www.labirint.ru/books/931210/',\n",
      "  'rating': '0.00'},\n",
      " {'_id': ObjectId('63f9f7a3237359fe77eab420'),\n",
      "  'authors': 'Пропп Владимир Яковлевич',\n",
      "  'basic_price': '3440',\n",
      "  'books_title': 'Владимир Пропп: Пропп. Все о сказках. Комплект из 2-х книг',\n",
      "  'discount_price': '2236',\n",
      "  'link_book': 'https://www.labirint.ru/books/931209/',\n",
      "  'rating': '10.00'},\n",
      " {'_id': ObjectId('63f9f7a3237359fe77eab422'),\n",
      "  'authors': 'Басова Евгения Владимировна',\n",
      "  'basic_price': '2144',\n",
      "  'books_title': 'Басова, Дашевская, Бутенко: Рассказы Волчка. Второй набор. '\n",
      "                 'Комплект из 5-ти книг',\n",
      "  'discount_price': '1394',\n",
      "  'link_book': 'https://www.labirint.ru/books/931208/',\n",
      "  'rating': '0.00'},\n",
      " {'_id': ObjectId('63f9f7a3237359fe77eab424'),\n",
      "  'authors': 'Си Лиза',\n",
      "  'basic_price': '3504',\n",
      "  'books_title': 'Лиза Си: Лиза Си. Коллекция. Комплект из 3-х книг',\n",
      "  'discount_price': '2102',\n",
      "  'link_book': 'https://www.labirint.ru/books/931211/',\n",
      "  'rating': '10.00'},\n",
      " {'_id': ObjectId('63f9f7a3237359fe77eab426'),\n",
      "  'authors': 'Седов Сергей Анатольевич',\n",
      "  'basic_price': '2256',\n",
      "  'books_title': 'Сергей Седов: Сергей Седов. Две сказки. Комплект из 2-х книг',\n",
      "  'discount_price': '1354',\n",
      "  'link_book': 'https://www.labirint.ru/books/931206/',\n",
      "  'rating': '0.00'},\n",
      " {'_id': ObjectId('63f9f7a3237359fe77eab428'),\n",
      "  'authors': 'Анисимова Анна Павловна',\n",
      "  'basic_price': '1472',\n",
      "  'books_title': 'Анна Анисимова: Анна Анисимова. Коллекция. Комплект из 2-х '\n",
      "                 'книг',\n",
      "  'discount_price': '1030',\n",
      "  'link_book': 'https://www.labirint.ru/books/931205/',\n",
      "  'rating': '10.00'},\n",
      " {'_id': ObjectId('63f9f7a3237359fe77eab42a'),\n",
      "  'authors': 'Дашевская Нина Сергеевна',\n",
      "  'basic_price': '2272',\n",
      "  'books_title': 'Дашевская, Сазонова, Богатырева: Рассказы Волчка. Первый '\n",
      "                 'набор. Комплект из 5-ти книг',\n",
      "  'discount_price': '1363',\n",
      "  'link_book': 'https://www.labirint.ru/books/931207/',\n",
      "  'rating': '0.00'},\n",
      " {'_id': ObjectId('63f9f7a3237359fe77eab42c'),\n",
      "  'authors': 'Маар Пауль',\n",
      "  'basic_price': '2640',\n",
      "  'books_title': 'Пауль Маар: Господин Белло. Комплект из 3-х книг',\n",
      "  'discount_price': '1848',\n",
      "  'link_book': 'https://www.labirint.ru/books/931203/',\n",
      "  'rating': '0.00'},\n",
      " {'_id': ObjectId('63f9f7a4237359fe77eab42e'),\n",
      "  'authors': 'Маршалл Алан',\n",
      "  'basic_price': '3184',\n",
      "  'books_title': 'Маршалл, Линдси: Классика зарубежной сказки. Комплект из 2-х '\n",
      "                 'книг',\n",
      "  'discount_price': '2070',\n",
      "  'link_book': 'https://www.labirint.ru/books/931204/',\n",
      "  'rating': '0.00'},\n",
      " {'_id': ObjectId('63f9f7a4237359fe77eab430'),\n",
      "  'authors': 'Нефедова Любовь',\n",
      "  'basic_price': '3104',\n",
      "  'books_title': 'Нефедова, Карпова, Юдина: Годовой курс развития ребенка. 5-6 '\n",
      "                 'лет. Комплект из 4-х книг',\n",
      "  'discount_price': '2173',\n",
      "  'link_book': 'https://www.labirint.ru/books/931198/',\n",
      "  'rating': '0.00'},\n",
      " {'_id': ObjectId('63f9f7a4237359fe77eab432'),\n",
      "  'authors': 'Овчинникова Ирина',\n",
      "  'basic_price': '3488',\n",
      "  'books_title': 'Овчинникова, Карпова, Вренева: Годовой курс развития '\n",
      "                 'ребенка. 4-5 лет. Комплект из 4-х книг',\n",
      "  'discount_price': '2442',\n",
      "  'link_book': 'https://www.labirint.ru/books/931196/',\n",
      "  'rating': '0.00'},\n",
      " {'_id': ObjectId('63f9f7a4237359fe77eab434'),\n",
      "  'authors': 'Уайброу Иан',\n",
      "  'basic_price': '1824',\n",
      "  'books_title': 'Иан Уайброу: Малютка Волк. Первые книги. Комплект из 3-х '\n",
      "                 'книг',\n",
      "  'discount_price': '1277',\n",
      "  'link_book': 'https://www.labirint.ru/books/931202/',\n",
      "  'rating': '0.00'},\n",
      " {'_id': ObjectId('63f9f7a4237359fe77eab436'),\n",
      "  'authors': 'Башаева В.',\n",
      "  'basic_price': '3040',\n",
      "  'books_title': 'Башаева, Орлова: Игры с нейропсихологом. Комплект из 4-х '\n",
      "                 'книг',\n",
      "  'discount_price': '2128',\n",
      "  'link_book': 'https://www.labirint.ru/books/931200/',\n",
      "  'rating': '0.00'},\n",
      " {'_id': ObjectId('63f9f7a4237359fe77eab438'),\n",
      "  'authors': 'Овчинникова Ирина',\n",
      "  'basic_price': '3408',\n",
      "  'books_title': 'Овчинникова, Карпова, Вренева: Годовой курс развития '\n",
      "                 'ребенка. 3-4 года. Комплект из 4-х книг',\n",
      "  'discount_price': '2045',\n",
      "  'link_book': 'https://www.labirint.ru/books/931195/',\n",
      "  'rating': '0.00'},\n",
      " {'_id': ObjectId('63f9f7a4237359fe77eab43a'),\n",
      "  'authors': 'Рамирез Янина',\n",
      "  'basic_price': '2112',\n",
      "  'books_title': 'Янина Рамирез: Тайны викингов. Комплект из 2-х книг',\n",
      "  'discount_price': '1267',\n",
      "  'link_book': 'https://www.labirint.ru/books/931194/',\n",
      "  'rating': '0.00'},\n",
      " {'_id': ObjectId('63f9f7a5237359fe77eab43c'),\n",
      "  'authors': 'Пеннипакер Сара',\n",
      "  'basic_price': '2160',\n",
      "  'books_title': 'Сара Пеннипакер: Клементина. Приключения продолжаются. '\n",
      "                 'Комплект из 3-х книг',\n",
      "  'discount_price': '1512',\n",
      "  'link_book': 'https://www.labirint.ru/books/931190/',\n",
      "  'rating': '0.00'},\n",
      " {'_id': ObjectId('63f9f7a5237359fe77eab43e'),\n",
      "  'authors': 'Рупасова Маша',\n",
      "  'basic_price': '2928',\n",
      "  'books_title': 'Рупасова, Улыбышева, Назарова: Языкознание - это весело! '\n",
      "                 'Комплект из 3-х книг',\n",
      "  'discount_price': '1757',\n",
      "  'link_book': 'https://www.labirint.ru/books/931193/',\n",
      "  'rating': '8.00'},\n",
      " {'_id': ObjectId('63f9f7a5237359fe77eab440'),\n",
      "  'authors': 'Платт Ричард',\n",
      "  'basic_price': '2976',\n",
      "  'books_title': 'Ричард Платт: Как жили в Древнем Риме и Египте. Комплект из '\n",
      "                 '2-х книг',\n",
      "  'discount_price': '1934',\n",
      "  'link_book': 'https://www.labirint.ru/books/931187/',\n",
      "  'rating': '0.00'},\n",
      " {'_id': ObjectId('63f9f7a5237359fe77eab442'),\n",
      "  'authors': 'Перельман Яков Исидорович',\n",
      "  'basic_price': '1920',\n",
      "  'books_title': 'Яков Перельман: Перельман. Занимательная геометрия. Комплект '\n",
      "                 'из 2-х книг',\n",
      "  'discount_price': '1152',\n",
      "  'link_book': 'https://www.labirint.ru/books/931185/',\n",
      "  'rating': '0.00'},\n",
      " {'_id': ObjectId('63f9f7a5237359fe77eab444'),\n",
      "  'authors': 'Ильницкий Андрей Николаевич',\n",
      "  'basic_price': '2496',\n",
      "  'books_title': 'Ильницкий, Прощаев: Ильницкий и Прощаев. Комплект из 3-х '\n",
      "                 'книг',\n",
      "  'discount_price': '1622',\n",
      "  'link_book': 'https://www.labirint.ru/books/931182/',\n",
      "  'rating': '0.00'},\n",
      " {'_id': ObjectId('63f9f7a5237359fe77eab446'),\n",
      "  'authors': 'Кун Николай Альбертович',\n",
      "  'basic_price': '3440',\n",
      "  'books_title': 'Николай Кун: Кун. Легенды и мифы древней Греции. Комплект из '\n",
      "                 '3-х книг',\n",
      "  'discount_price': '2236',\n",
      "  'link_book': 'https://www.labirint.ru/books/931184/',\n",
      "  'rating': '10.00'},\n",
      " {'_id': ObjectId('63f9f7a5237359fe77eab448'),\n",
      "  'authors': 'Пеннипакер Сара',\n",
      "  'basic_price': '2240',\n",
      "  'books_title': 'Сара Пеннипакер: Клементина. Начало. Комплект из 3-х книг',\n",
      "  'discount_price': '1344',\n",
      "  'link_book': 'https://www.labirint.ru/books/931188/',\n",
      "  'rating': '0.00'},\n",
      " {'_id': ObjectId('63f9f7a6237359fe77eab44a'),\n",
      "  'authors': 'Платт Ричард',\n",
      "  'basic_price': '2976',\n",
      "  'books_title': 'Ричард Платт: Как жили рыцари и пираты. Комплект из 2-х книг',\n",
      "  'discount_price': '1934',\n",
      "  'link_book': 'https://www.labirint.ru/books/931186/',\n",
      "  'rating': '0.00'},\n",
      " {'_id': ObjectId('63f9f7a6237359fe77eab44c'),\n",
      "  'authors': 'Блум Джуди',\n",
      "  'basic_price': '3680',\n",
      "  'books_title': 'Джуди Блум: Питер Обыкновенный. Комплект из 3-х книг',\n",
      "  'discount_price': '2576',\n",
      "  'link_book': 'https://www.labirint.ru/books/931181/',\n",
      "  'rating': '0.00'},\n",
      " {'_id': ObjectId('63f9f7a6237359fe77eab44e'),\n",
      "  'authors': 'Хмелевская Иоанна',\n",
      "  'basic_price': '2784',\n",
      "  'books_title': 'Иоанна Хмелевская: Приключения пани Иоанны. Начало. Комплект '\n",
      "                 'из 3-х книг',\n",
      "  'discount_price': '1810',\n",
      "  'link_book': 'https://www.labirint.ru/books/931180/',\n",
      "  'rating': '0.00'},\n",
      " {'_id': ObjectId('63f9f7a6237359fe77eab450'),\n",
      "  'authors': 'Перельман Яков Исидорович',\n",
      "  'basic_price': '1744',\n",
      "  'books_title': 'Яков Перельман: Перельман. Две сотни головоломок. Комплект '\n",
      "                 'из 2-х книг',\n",
      "  'discount_price': '1134',\n",
      "  'link_book': 'https://www.labirint.ru/books/931183/',\n",
      "  'rating': '0.00'}]\n"
     ]
    }
   ],
   "source": [
    "pprint(books_db_labirint_list)"
   ]
  },
  {
   "cell_type": "code",
   "execution_count": 11,
   "metadata": {},
   "outputs": [
    {
     "data": {
      "text/plain": [
       "58"
      ]
     },
     "execution_count": 11,
     "metadata": {},
     "output_type": "execute_result"
    }
   ],
   "source": [
    "len(books_db_labirint_list)"
   ]
  },
  {
   "cell_type": "code",
   "execution_count": null,
   "metadata": {},
   "outputs": [],
   "source": []
  }
 ],
 "metadata": {
  "colab": {
   "authorship_tag": "ABX9TyPg1l7H2zCtOJ6Ni8+9lfUD",
   "collapsed_sections": [
    "SB32_CthNR7-",
    "yixbIkF2Nchd",
    "aEr0RN1LNsBu",
    "_93KvCZgN2IF"
   ],
   "name": "",
   "version": ""
  },
  "kernelspec": {
   "display_name": "Python 3 (ipykernel)",
   "language": "python",
   "name": "python3"
  },
  "language_info": {
   "codemirror_mode": {
    "name": "ipython",
    "version": 3
   },
   "file_extension": ".py",
   "mimetype": "text/x-python",
   "name": "python",
   "nbconvert_exporter": "python",
   "pygments_lexer": "ipython3",
   "version": "3.9.12"
  }
 },
 "nbformat": 4,
 "nbformat_minor": 1
}
